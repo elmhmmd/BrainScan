{
 "cells": [
  {
   "cell_type": "markdown",
   "id": "d564460a",
   "metadata": {},
   "source": [
    "## Chargement et Prétraitement du Dataset"
   ]
  },
  {
   "cell_type": "markdown",
   "id": "4928661d",
   "metadata": {},
   "source": [
    "### Chargement des images du dataset et vérification des extensions (jpeg, jpg, bmp, png)"
   ]
  },
  {
   "cell_type": "code",
   "execution_count": 8,
   "id": "27bc11c7",
   "metadata": {},
   "outputs": [],
   "source": [
    "import os\n",
    "\n",
    "images_folder = './Data'\n",
    "\n",
    "valid_extensions = ['.jpeg', '.jpg', '.bmp', '.png']\n",
    "\n",
    "non_valid_extensions = []\n",
    "\n",
    "for subfolder in os.listdir(images_folder):\n",
    "    subfolder_path = os.path.join(images_folder,subfolder)\n",
    "\n",
    "    if os.path.isdir(subfolder_path):\n",
    "        for file in os.listdir(subfolder_path):\n",
    "            file_path = os.path.join (subfolder_path, file)\n",
    "            _,extension = os.path.splitext(file_path)\n",
    "            extension = extension.lower()\n",
    "\n",
    "            if os.path.isfile(file_path) and extension not in valid_extensions:\n",
    "                print(f\"Suppression de: {file_path}\")\n",
    "                os.remove(file_path)"
   ]
  },
  {
   "cell_type": "markdown",
   "id": "464eb166",
   "metadata": {},
   "source": [
    "### Mélange des images de toutes les classes dans deux listes"
   ]
  },
  {
   "cell_type": "code",
   "execution_count": null,
   "id": "8d97f788",
   "metadata": {},
   "outputs": [],
   "source": [
    "import random\n",
    "\n",
    "images = []\n",
    "labels = []\n",
    "\n",
    "for class_name in os.listdir(images_folder):\n",
    "    folder_path = os.path.join(images_folder, class_name)\n",
    "\n",
    "    if os.path.isdir(folder_path):\n",
    "\n",
    "        for file in folder_path:\n",
    "            file_path = os.path.join(folder_path, file)\n",
    "\n",
    "            if os.path.isfile(file_path):\n",
    "                images.append(file_path)\n",
    "                labels.append(class_name)\n",
    "\n",
    "combined = list(zip(images,labels))\n",
    "random.shuffle(combined)\n",
    "\n",
    "images_shuffled, labels_shuffled = zip(*combined)\n",
    "\n",
    "images_shuffled = list(images_shuffled)\n",
    "labels_shuffled = list(labels_shuffled)\n",
    "\n",
    "\n",
    "for img, lbl in zip(images_shuffled[:5], labels_shuffled[:5]):\n",
    "    print(f\"\")"
   ]
  }
 ],
 "metadata": {
  "kernelspec": {
   "display_name": "Python 3",
   "language": "python",
   "name": "python3"
  },
  "language_info": {
   "codemirror_mode": {
    "name": "ipython",
    "version": 3
   },
   "file_extension": ".py",
   "mimetype": "text/x-python",
   "name": "python",
   "nbconvert_exporter": "python",
   "pygments_lexer": "ipython3",
   "version": "3.13.7"
  }
 },
 "nbformat": 4,
 "nbformat_minor": 5
}
