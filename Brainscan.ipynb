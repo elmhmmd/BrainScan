{
 "cells": [
  {
   "cell_type": "markdown",
   "id": "d564460a",
   "metadata": {},
   "source": [
    "## Chargement et Prétraitement du Dataset"
   ]
  },
  {
   "cell_type": "markdown",
   "id": "4928661d",
   "metadata": {},
   "source": [
    "### Chargement des images du dataset et vérification des extensions (jpeg, jpg, bmp, png)"
   ]
  },
  {
   "cell_type": "code",
   "execution_count": null,
   "id": "27bc11c7",
   "metadata": {},
   "outputs": [],
   "source": [
    "import os, cv2\n",
    "\n",
    "images_folder = './Data'\n",
    "\n",
    "valid_extensions = ['.jpeg', '.jpg', '.bmp', '.png']\n",
    "\n",
    "non_valid_extensions = []\n",
    "\n",
    "for subfolder in os.listdir(images_folder):\n",
    "    subfolder_path = os.path.join(images_folder,subfolder)\n",
    "\n",
    "    if os.path.isdir(subfolder_path):\n",
    "        for file in os.listdir(subfolder_path):\n",
    "            file_path = os.path.join (subfolder_path, file)\n",
    "            _,extension = os.path.splitext(file_path)\n",
    "            extension = extension.lower()\n",
    "\n",
    "            if os.path.isfile(file_path) and extension not in valid_extensions:\n",
    "                print(f\"Suppression de: {file_path}\")\n",
    "                os.remove(file_path)"
   ]
  },
  {
   "cell_type": "markdown",
   "id": "464eb166",
   "metadata": {},
   "source": [
    "### Mélange des images de toutes les classes dans deux listes"
   ]
  },
  {
   "cell_type": "code",
   "execution_count": 17,
   "id": "8d97f788",
   "metadata": {},
   "outputs": [],
   "source": [
    "import random\n",
    "\n",
    "images = []\n",
    "labels = []\n",
    "\n",
    "for class_name in os.listdir(images_folder):\n",
    "    folder_path = os.path.join(images_folder, class_name)\n",
    "\n",
    "    if os.path.isdir(folder_path):\n",
    "\n",
    "        for file in os.listdir(folder_path):\n",
    "            file_path = os.path.join(folder_path, file)\n",
    "\n",
    "            if os.path.isfile(file_path):\n",
    "                images.append(file_path)\n",
    "                labels.append(class_name)\n",
    "\n",
    "combined = list(zip(images,labels))\n",
    "random.shuffle(combined)\n",
    "\n",
    "images_shuffled, labels_shuffled = zip(*combined)\n",
    "\n",
    "images_shuffled = list(images_shuffled)\n",
    "labels_shuffled = list(labels_shuffled)\n"
   ]
  },
  {
   "cell_type": "markdown",
   "id": "a2b5c600",
   "metadata": {},
   "source": [
    "### Redimonsionnement des images"
   ]
  },
  {
   "cell_type": "code",
   "execution_count": 20,
   "id": "7d431886",
   "metadata": {},
   "outputs": [],
   "source": [
    "for img in images_shuffled:\n",
    "    try:\n",
    "        image = cv2.imread(img)\n",
    "        image_resized = cv2.resize(image, (224,224))\n",
    "    except Exception as e:\n",
    "        print(f\"Erreur: {e}\")\n",
    "        "
   ]
  },
  {
   "cell_type": "markdown",
   "id": "3042d354",
   "metadata": {},
   "source": [
    "### Conversion des images en tableaux NumPy"
   ]
  },
  {
   "cell_type": "code",
   "execution_count": 22,
   "id": "37f5429d",
   "metadata": {},
   "outputs": [],
   "source": [
    "import numpy as np\n",
    "\n",
    "images_np = np.array(images_shuffled)\n",
    "labels_np = np.array(labels_shuffled)"
   ]
  },
  {
   "cell_type": "code",
   "execution_count": null,
   "id": "4e6b8cbc",
   "metadata": {},
   "outputs": [],
   "source": []
  }
 ],
 "metadata": {
  "kernelspec": {
   "display_name": "Python 3",
   "language": "python",
   "name": "python3"
  },
  "language_info": {
   "codemirror_mode": {
    "name": "ipython",
    "version": 3
   },
   "file_extension": ".py",
   "mimetype": "text/x-python",
   "name": "python",
   "nbconvert_exporter": "python",
   "pygments_lexer": "ipython3",
   "version": "3.13.7"
  }
 },
 "nbformat": 4,
 "nbformat_minor": 5
}
