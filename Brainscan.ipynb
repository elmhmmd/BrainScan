{
 "cells": [
  {
   "cell_type": "markdown",
   "id": "d564460a",
   "metadata": {},
   "source": [
    "## Chargement et Prétraitement du Dataset"
   ]
  },
  {
   "cell_type": "markdown",
   "id": "4928661d",
   "metadata": {},
   "source": [
    "### Chargement des images du dataset et vérification des extensions (jpeg, jpg, bmp, png)"
   ]
  },
  {
   "cell_type": "code",
   "execution_count": 8,
   "id": "27bc11c7",
   "metadata": {},
   "outputs": [],
   "source": [
    "import os\n",
    "\n",
    "images_folder = './Data'\n",
    "\n",
    "valid_extensions = ['.jpeg', '.jpg', '.bmp', '.png']\n",
    "\n",
    "non_valid_extensions = []\n",
    "\n",
    "for subfolder in os.listdir(images_folder):\n",
    "    subfolder_path = os.path.join(images_folder,subfolder)\n",
    "\n",
    "    if os.path.isdir(subfolder_path):\n",
    "        for file in os.listdir(subfolder_path):\n",
    "            file_path = os.path.join (subfolder_path, file)\n",
    "            _,extension = os.path.splitext(file_path)\n",
    "            extension = extension.lower()\n",
    "\n",
    "            if os.path.isfile(file_path) and extension not in valid_extensions:\n",
    "                print(f\"Suppression de: {file_path}\")\n",
    "                os.remove(file_path)"
   ]
  }
 ],
 "metadata": {
  "kernelspec": {
   "display_name": "Python 3",
   "language": "python",
   "name": "python3"
  },
  "language_info": {
   "codemirror_mode": {
    "name": "ipython",
    "version": 3
   },
   "file_extension": ".py",
   "mimetype": "text/x-python",
   "name": "python",
   "nbconvert_exporter": "python",
   "pygments_lexer": "ipython3",
   "version": "3.13.7"
  }
 },
 "nbformat": 4,
 "nbformat_minor": 5
}
